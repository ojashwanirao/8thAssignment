{
 "cells": [
  {
   "cell_type": "code",
   "execution_count": 1,
   "id": "95b4c083-f3bf-49ec-af47-d8947b90827e",
   "metadata": {},
   "outputs": [],
   "source": [
    "#1. What are the five key concepts of Object-Oriented Programming (OOP)?\n",
    "#Object-Oriented Programming (OOP) is a programming paradigm that uses objects and classes to structure code. Here are the five key concepts:\n",
    "\n",
    "#I) Encapsulation: Encapsulation is the concept of bundling data (attributes) and methods (functions) that operate on the data into a single unit called a class. It hides the internal state of an object from the outside world and only exposes a controlled interface for interacting with it. This promotes modularity and reduces complexity.\n",
    "\n",
    "#II) Abstraction: Abstraction involves hiding complex implementation details and showing only the essential features of an object. It helps in reducing complexity by allowing programmers to work at a higher level of interaction without needing to understand the internal workings of the class.\n",
    "\n",
    "#III) Inheritance: Inheritance is a mechanism by which one class (the subclass) can inherit attributes and methods from another class (the superclass). It promotes code reusability and establishes a relationship between classes, allowing the subclass to extend or modify the behavior of the superclass.\n",
    "\n",
    "#IV) Polymorphism: Polymorphism allows objects of different classes to be treated as objects of a common superclass. It enables a single function or method to operate differently based on the object it is acting upon. This is typically achieved through method overriding and method overloading.\n",
    "\n",
    "#V) Abstraction: This concept is about creating simple interfaces while hiding the complex implementation details. It allows developers to interact with objects at a high level without needing to know the specifics of their implementation."
   ]
  },
  {
   "cell_type": "code",
   "execution_count": 2,
   "id": "87fec4de-d63b-4ed3-97c5-b07131e961d1",
   "metadata": {},
   "outputs": [
    {
     "name": "stdout",
     "output_type": "stream",
     "text": [
      "Car Make: Toyota\n",
      "Car Model: Corolla\n",
      "Car Year: 2020\n"
     ]
    }
   ],
   "source": [
    "#2. Write a Python class for a Car with attributes for make, model, and year. Include a method to display the car's information.\n",
    "class Car:\n",
    "    def __init__(self, make, model, year):\n",
    "        self.make = make\n",
    "        self.model = model\n",
    "        self.year = year\n",
    "\n",
    "    def display_info(self):\n",
    "        print(f\"Car Make: {self.make}\")\n",
    "        print(f\"Car Model: {self.model}\")\n",
    "        print(f\"Car Year: {self.year}\")\n",
    "\n",
    "# Example usage:\n",
    "my_car = Car(\"Toyota\", \"Corolla\", 2020)\n",
    "my_car.display_info()"
   ]
  },
  {
   "cell_type": "code",
   "execution_count": 3,
   "id": "6b7c0b23-9e48-4173-857d-4a64d52a4229",
   "metadata": {},
   "outputs": [
    {
     "name": "stdout",
     "output_type": "stream",
     "text": [
      "This is an instance method.\n",
      "This is a class method. Accessing class variable: Class variable\n"
     ]
    }
   ],
   "source": [
    "#3. Explain the difference between instance methods and class methods. Provide an example of each.\n",
    "#I) Instance Methods: These methods operate on an instance of the class. They can access and modify the instance's attributes. They are defined with self as the first parameter.\n",
    "class MyClass:\n",
    "    def instance_method(self):\n",
    "        print(\"This is an instance method.\")\n",
    "\n",
    "obj = MyClass()\n",
    "obj.instance_method()\n",
    "\n",
    "#II) Class Methods: These methods operate on the class itself rather than an instance. They can access class attributes but not instance-specific data. They are defined with @classmethod decorator and cls as the first parameter.\n",
    "class MyClass:\n",
    "    class_variable = \"Class variable\"\n",
    "\n",
    "    @classmethod\n",
    "    def class_method(cls):\n",
    "        print(f\"This is a class method. Accessing class variable: {cls.class_variable}\")\n",
    "\n",
    "MyClass.class_method()"
   ]
  },
  {
   "cell_type": "code",
   "execution_count": 4,
   "id": "37f24005-2677-4971-aa6b-719760af2ecd",
   "metadata": {},
   "outputs": [
    {
     "name": "stdout",
     "output_type": "stream",
     "text": [
      "Hello, World!\n",
      "Hello, Alice!\n"
     ]
    }
   ],
   "source": [
    "#4. How does Python implement method overloading? Give an example.\n",
    "class MyClass:\n",
    "    def greet(self, name=None):\n",
    "        if name:\n",
    "            print(f\"Hello, {name}!\")\n",
    "        else:\n",
    "            print(\"Hello, World!\")\n",
    "\n",
    "# Example usage:\n",
    "obj = MyClass()\n",
    "obj.greet()        \n",
    "obj.greet(\"Alice\")"
   ]
  },
  {
   "cell_type": "code",
   "execution_count": 6,
   "id": "586c95b9-d22e-44be-b7cc-9499b6049add",
   "metadata": {},
   "outputs": [
    {
     "name": "stdout",
     "output_type": "stream",
     "text": [
      "I am public!\n",
      "This is a public method.\n",
      "I am protected!\n",
      "I am private!\n",
      "I am private!\n"
     ]
    }
   ],
   "source": [
    "#5. What are the three types of access modifiers in Python? How are they denoted?\n",
    "#I) Public Members:Public members are accessible from anywhere. By default, all members are public.\n",
    "class PublicExample:\n",
    "    def __init__(self):\n",
    "        self.public_var = \"I am public!\"\n",
    "\n",
    "    def public_method(self):\n",
    "        return \"This is a public method.\"\n",
    "\n",
    "# Usage\n",
    "obj = PublicExample()\n",
    "print(obj.public_var)  \n",
    "print(obj.public_method())  \n",
    "\n",
    "#II) Protected Members: Protected members are intended to be accessed within the class and its subclasses. They are denoted by a single underscore.\n",
    "class ProtectedExample:\n",
    "    def __init__(self):\n",
    "        self._protected_var = \"I am protected!\"\n",
    "\n",
    "    def _protected_method(self):\n",
    "        return \"This is a protected method.\"\n",
    "\n",
    "# Usage\n",
    "class SubClass(ProtectedExample):\n",
    "    def access_protected(self):\n",
    "        return self._protected_var\n",
    "\n",
    "obj = SubClass()\n",
    "print(obj.access_protected())  \n",
    "\n",
    "#3. Private Members: Private members are intended to be accessed only within the class. They are denoted by a double underscore.\n",
    "class PrivateExample:\n",
    "    def __init__(self):\n",
    "        self.__private_var = \"I am private!\"\n",
    "\n",
    "    def __private_method(self):\n",
    "        return \"This is a private method.\"\n",
    "\n",
    "    def access_private(self):\n",
    "        return self.__private_var\n",
    "\n",
    "# Usage\n",
    "obj = PrivateExample()\n",
    "print(obj.access_private()) \n",
    "print(obj._PrivateExample__private_var)  "
   ]
  },
  {
   "cell_type": "code",
   "execution_count": 7,
   "id": "52b5d728-ee87-4c80-beb8-1eff38230557",
   "metadata": {},
   "outputs": [
    {
     "name": "stdout",
     "output_type": "stream",
     "text": [
      "Hello from Parent\n",
      "Father is working\n",
      "Mother is caring\n",
      "Grandparent's legacy\n",
      "Parent's guidance\n",
      "Parent is speaking\n",
      "Base method\n",
      "Derived1 method\n",
      "Derived2 method\n"
     ]
    }
   ],
   "source": [
    "#6. Describe the five types of inheritance in Python. Provide a simple example of multiple inheritance.\n",
    "#I) Single Inheritance: A class inherits from a single superclass.\n",
    "class Parent:\n",
    "    def speak(self):\n",
    "        print(\"Hello from Parent\")\n",
    "\n",
    "class Child(Parent):\n",
    "    pass\n",
    "\n",
    "child = Child()\n",
    "child.speak() \n",
    "\n",
    "#II) Multiple Inheritance: A class inherits from more than one superclass.\n",
    "class Father:\n",
    "    def work(self):\n",
    "        print(\"Father is working\")\n",
    "\n",
    "class Mother:\n",
    "    def care(self):\n",
    "        print(\"Mother is caring\")\n",
    "\n",
    "class Child(Father, Mother):\n",
    "    pass\n",
    "\n",
    "child = Child()\n",
    "child.work()  \n",
    "child.care()\n",
    "\n",
    "#III) Multilevel Inheritance: A class inherits from a class that is also a subclass of another class.\n",
    "class Grandparent:\n",
    "    def legacy(self):\n",
    "        print(\"Grandparent's legacy\")\n",
    "\n",
    "class Parent(Grandparent):\n",
    "    def guidance(self):\n",
    "        print(\"Parent's guidance\")\n",
    "\n",
    "class Child(Parent):\n",
    "    pass\n",
    "\n",
    "child = Child()\n",
    "child.legacy()   \n",
    "child.guidance()\n",
    "\n",
    "#IV) Hierarchical Inheritance: Multiple classes inherit from a single superclass.\n",
    "class Parent:\n",
    "    def speak(self):\n",
    "        print(\"Parent is speaking\")\n",
    "\n",
    "class Child1(Parent):\n",
    "    pass\n",
    "\n",
    "class Child2(Parent):\n",
    "    pass\n",
    "\n",
    "child1 = Child1()\n",
    "child2 = Child2()\n",
    "\n",
    "child1.speak()  \n",
    "\n",
    "#V) Hybrid Inheritance: A combination of two or more types of inheritance. It often involves a mix of single, multiple, and hierarchical inheritance.\n",
    "class Base:\n",
    "    def base_method(self):\n",
    "        print(\"Base method\")\n",
    "\n",
    "class Derived1(Base):\n",
    "    def derived1_method(self):\n",
    "        print(\"Derived1 method\")\n",
    "\n",
    "class Derived2(Base):\n",
    "    def derived2_method(self):\n",
    "        print(\"Derived2 method\")\n",
    "\n",
    "class Hybrid(Derived1, Derived2):\n",
    "    pass\n",
    "\n",
    "hybrid = Hybrid()\n",
    "hybrid.base_method()      \n",
    "hybrid.derived1_method()  \n",
    "hybrid.derived2_method()"
   ]
  },
  {
   "cell_type": "code",
   "execution_count": 8,
   "id": "4ddfd68e-c0aa-4ba2-badf-bdb941688d28",
   "metadata": {},
   "outputs": [
    {
     "name": "stdout",
     "output_type": "stream",
     "text": [
      "[<class '__main__.D'>, <class '__main__.B'>, <class '__main__.C'>, <class '__main__.A'>, <class 'object'>]\n"
     ]
    }
   ],
   "source": [
    "#7. What is the Method Resolution Order (MRO) in Python? How can you retrieve it programmatically?\n",
    "#The Method Resolution Order (MRO) is the order in which base classes are searched when executing a method. Python uses the C3 linearization algorithm to determine the MRO.\n",
    "class A:\n",
    "    pass\n",
    "\n",
    "class B(A):\n",
    "    pass\n",
    "\n",
    "class C(A):\n",
    "    pass\n",
    "\n",
    "class D(B, C):\n",
    "    pass\n",
    "\n",
    "print(D.mro())"
   ]
  },
  {
   "cell_type": "code",
   "execution_count": 9,
   "id": "8dc69c4c-1829-4b18-88df-d6e82f9884c8",
   "metadata": {},
   "outputs": [
    {
     "name": "stdout",
     "output_type": "stream",
     "text": [
      "78.53981633974483\n",
      "24\n"
     ]
    }
   ],
   "source": [
    "#8. Create an abstract base class Shape with an abstract method area(). Then create two subclasses Circle and Rectangle that implement the area() method.\n",
    "from abc import ABC, abstractmethod\n",
    "import math\n",
    "\n",
    "class Shape(ABC):\n",
    "    @abstractmethod\n",
    "    def area(self):\n",
    "        pass\n",
    "\n",
    "class Circle(Shape):\n",
    "    def __init__(self, radius):\n",
    "        self.radius = radius\n",
    "\n",
    "    def area(self):\n",
    "        return math.pi * self.radius ** 2\n",
    "\n",
    "class Rectangle(Shape):\n",
    "    def __init__(self, width, height):\n",
    "        self.width = width\n",
    "        self.height = height\n",
    "\n",
    "    def area(self):\n",
    "        return self.width * self.height\n",
    "\n",
    "# Example usage:\n",
    "circle = Circle(5)\n",
    "print(circle.area())  \n",
    "\n",
    "rectangle = Rectangle(4, 6)\n",
    "print(rectangle.area()) "
   ]
  },
  {
   "cell_type": "code",
   "execution_count": 10,
   "id": "02b1ce27-799a-4bb4-b4bb-5cb8b06374ee",
   "metadata": {},
   "outputs": [
    {
     "name": "stdout",
     "output_type": "stream",
     "text": [
      "Area: 78.53981633974483\n",
      "Area: 24\n"
     ]
    }
   ],
   "source": [
    "#9. Demonstrate polymorphism by creating a function that can work with different shape objects to calculate and print their areas.\n",
    "from abc import ABC, abstractmethod\n",
    "import math\n",
    "\n",
    "# Abstract base class\n",
    "class Shape(ABC):\n",
    "    @abstractmethod\n",
    "    def area(self):\n",
    "        pass\n",
    "\n",
    "# Circle class\n",
    "class Circle(Shape):\n",
    "    def __init__(self, radius):\n",
    "        self.radius = radius\n",
    "\n",
    "    def area(self):\n",
    "        return math.pi * self.radius ** 2\n",
    "\n",
    "# Rectangle class\n",
    "class Rectangle(Shape):\n",
    "    def __init__(self, width, height):\n",
    "        self.width = width\n",
    "        self.height = height\n",
    "\n",
    "    def area(self):\n",
    "        return self.width * self.height\n",
    "\n",
    "# Function demonstrating polymorphism\n",
    "def print_area(shape):\n",
    "    print(f\"Area: {shape.area()}\")\n",
    "\n",
    "# Example usage\n",
    "circle = Circle(5)\n",
    "rectangle = Rectangle(4, 6)\n",
    "\n",
    "print_area(circle)  \n",
    "print_area(rectangle)"
   ]
  },
  {
   "cell_type": "code",
   "execution_count": 11,
   "id": "56c4a470-e6b7-4ebc-9f44-f7447ce7b961",
   "metadata": {},
   "outputs": [
    {
     "name": "stdout",
     "output_type": "stream",
     "text": [
      "1000\n",
      "500\n"
     ]
    }
   ],
   "source": [
    "#10. Implement encapsulation in a BankAccount class with private attributes for balance and account_number. Include methods for deposit, withdrawal, and balance inquiry.\n",
    "class BankAccount:\n",
    "    def __init__(self, account_number, balance=0):\n",
    "        self.__account_number = account_number\n",
    "        self.__balance = balance\n",
    "\n",
    "    def deposit(self, amount):\n",
    "        if amount > 0:\n",
    "            self.__balance += amount\n",
    "        else:\n",
    "            print(\"Deposit amount must be positive.\")\n",
    "\n",
    "    def withdraw(self, amount):\n",
    "        if 0 < amount <= self.__balance:\n",
    "            self.__balance -= amount\n",
    "        else:\n",
    "            print(\"Insufficient funds or invalid amount.\")\n",
    "\n",
    "    def get_balance(self):\n",
    "        return self.__balance\n",
    "\n",
    "# Example usage:\n",
    "account = BankAccount(\"123456\")\n",
    "account.deposit(1000)\n",
    "print(account.get_balance())  \n",
    "account.withdraw(500)\n",
    "print(account.get_balance())  "
   ]
  },
  {
   "cell_type": "code",
   "execution_count": 12,
   "id": "7a1a8201-526c-42cb-a570-456da2709f3e",
   "metadata": {},
   "outputs": [
    {
     "name": "stdout",
     "output_type": "stream",
     "text": [
      "MyNumber(5)\n",
      "MyNumber(15)\n"
     ]
    }
   ],
   "source": [
    "#11. Write a class that overrides the __str__ and __add__ magic methods. What will these methods allow you to do?\n",
    "class MyNumber:\n",
    "    def __init__(self, value):\n",
    "        self.value = value\n",
    "\n",
    "    def __str__(self):\n",
    "        return f\"MyNumber({self.value})\"\n",
    "\n",
    "    def __add__(self, other):\n",
    "        if isinstance(other, MyNumber):\n",
    "            return MyNumber(self.value + other.value)\n",
    "        return NotImplemented\n",
    "\n",
    "# Example usage:\n",
    "num1 = MyNumber(5)\n",
    "num2 = MyNumber(10)\n",
    "print(num1)            \n",
    "num3 = num1 + num2\n",
    "print(num3)            "
   ]
  },
  {
   "cell_type": "code",
   "execution_count": 13,
   "id": "e8431c27-04bc-477e-9e33-d969cff68a97",
   "metadata": {},
   "outputs": [
    {
     "name": "stdout",
     "output_type": "stream",
     "text": [
      "Execution time: 0.0739 seconds\n"
     ]
    },
    {
     "data": {
      "text/plain": [
       "499999500000"
      ]
     },
     "execution_count": 13,
     "metadata": {},
     "output_type": "execute_result"
    }
   ],
   "source": [
    "#12. Create a decorator that measures and prints the execution time of a function.\n",
    "import time\n",
    "\n",
    "def timeit(func):\n",
    "    def wrapper(*args, **kwargs):\n",
    "        start_time = time.time()\n",
    "        result = func(*args, **kwargs)\n",
    "        end_time = time.time()\n",
    "        print(f\"Execution time: {end_time - start_time:.4f} seconds\")\n",
    "        return result\n",
    "    return wrapper\n",
    "\n",
    "# Example usage:\n",
    "@timeit\n",
    "def example_function(n):\n",
    "    total = 0\n",
    "    for i in range(n):\n",
    "        total += i\n",
    "    return total\n",
    "\n",
    "example_function(1000000)"
   ]
  },
  {
   "cell_type": "code",
   "execution_count": 14,
   "id": "52fbbaba-cd17-48dc-83a0-c165fdd0ccfd",
   "metadata": {},
   "outputs": [
    {
     "name": "stdout",
     "output_type": "stream",
     "text": [
      "Method in B\n",
      "[<class '__main__.D'>, <class '__main__.B'>, <class '__main__.C'>, <class '__main__.A'>, <class 'object'>]\n"
     ]
    }
   ],
   "source": [
    "#13. Explain the concept of the Diamond Problem in multiple inheritance. How does Python resolve it?\n",
    "#The Diamond Problem arises in multiple inheritance when a class inherits from two classes that have a common base class. This can create ambiguity about which method should be called if both parent classes have a method with the same name. Python resolves this problem using the C3 Linearization algorithm, which creates a consistent method resolution order.\n",
    "\n",
    "class A:\n",
    "    def method(self):\n",
    "        print(\"Method in A\")\n",
    "\n",
    "class B(A):\n",
    "    def method(self):\n",
    "        print(\"Method in B\")\n",
    "\n",
    "class C(A):\n",
    "    def method(self):\n",
    "        print(\"Method in C\")\n",
    "\n",
    "class D(B, C):\n",
    "    pass\n",
    "\n",
    "d = D()\n",
    "d.method()  \n",
    "\n",
    "#To retrieve the MRO programmatically:\n",
    "print(D.mro())  "
   ]
  },
  {
   "cell_type": "code",
   "execution_count": 15,
   "id": "d52a6954-f9c9-458d-936c-67bd38a0a7a9",
   "metadata": {},
   "outputs": [
    {
     "name": "stdout",
     "output_type": "stream",
     "text": [
      "2\n"
     ]
    }
   ],
   "source": [
    "#14. Write a class method that keeps track of the number of instances created from a class.\n",
    "class InstanceCounter:\n",
    "    _count = 0\n",
    "\n",
    "    def __init__(self):\n",
    "        InstanceCounter._count += 1\n",
    "\n",
    "    @classmethod\n",
    "    def get_count(cls):\n",
    "        return cls._count\n",
    "\n",
    "# Example usage:\n",
    "obj1 = InstanceCounter()\n",
    "obj2 = InstanceCounter()\n",
    "print(InstanceCounter.get_count())  \n"
   ]
  },
  {
   "cell_type": "code",
   "execution_count": 16,
   "id": "61f30589-e4e3-4d5c-ac4c-96cfd76935cc",
   "metadata": {},
   "outputs": [
    {
     "name": "stdout",
     "output_type": "stream",
     "text": [
      "True\n",
      "False\n",
      "True\n"
     ]
    }
   ],
   "source": [
    "#!5. Implement a static method in a class that checks if a given year is a leap year.\n",
    "class YearChecker:\n",
    "    @staticmethod\n",
    "    def is_leap_year(year):\n",
    "        # A year is a leap year if it is divisible by 4\n",
    "        # but not divisible by 100, except if it is divisible by 400\n",
    "        if (year % 4 == 0 and year % 100 != 0) or (year % 400 == 0):\n",
    "            return True\n",
    "        else:\n",
    "            return False\n",
    "\n",
    "print(YearChecker.is_leap_year(2024))  \n",
    "print(YearChecker.is_leap_year(1900))  \n",
    "print(YearChecker.is_leap_year(2000)) "
   ]
  }
 ],
 "metadata": {
  "kernelspec": {
   "display_name": "Python 3 (ipykernel)",
   "language": "python",
   "name": "python3"
  },
  "language_info": {
   "codemirror_mode": {
    "name": "ipython",
    "version": 3
   },
   "file_extension": ".py",
   "mimetype": "text/x-python",
   "name": "python",
   "nbconvert_exporter": "python",
   "pygments_lexer": "ipython3",
   "version": "3.10.8"
  }
 },
 "nbformat": 4,
 "nbformat_minor": 5
}
